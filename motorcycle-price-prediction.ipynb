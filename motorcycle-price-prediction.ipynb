{
 "cells": [
  {
   "cell_type": "markdown",
   "id": "f1dc39ff",
   "metadata": {
    "papermill": {
     "duration": 0.009589,
     "end_time": "2024-07-31T05:16:26.773302",
     "exception": false,
     "start_time": "2024-07-31T05:16:26.763713",
     "status": "completed"
    },
    "tags": []
   },
   "source": [
    "# Motorcycle Price Prediction"
   ]
  },
  {
   "cell_type": "markdown",
   "id": "eee5b477",
   "metadata": {
    "papermill": {
     "duration": 0.008722,
     "end_time": "2024-07-31T05:16:26.791964",
     "exception": false,
     "start_time": "2024-07-31T05:16:26.783242",
     "status": "completed"
    },
    "tags": []
   },
   "source": [
    "![Bike](https://cdn.bajajauto.com/-/media/assets/bajajauto/bikes/bikelisting/pulsar/pulsarns125.png)"
   ]
  },
  {
   "cell_type": "markdown",
   "id": "6f62071f",
   "metadata": {
    "papermill": {
     "duration": 0.009599,
     "end_time": "2024-07-31T05:16:26.810958",
     "exception": false,
     "start_time": "2024-07-31T05:16:26.801359",
     "status": "completed"
    },
    "tags": []
   },
   "source": [
    "## Data Exploration"
   ]
  },
  {
   "cell_type": "code",
   "execution_count": 1,
   "id": "b5615459",
   "metadata": {
    "_cell_guid": "b1076dfc-b9ad-4769-8c92-a6c4dae69d19",
    "_uuid": "8f2839f25d086af736a60e9eeb907d3b93b6e0e5",
    "execution": {
     "iopub.execute_input": "2024-07-31T05:16:26.830344Z",
     "iopub.status.busy": "2024-07-31T05:16:26.829970Z",
     "iopub.status.idle": "2024-07-31T05:16:29.556768Z",
     "shell.execute_reply": "2024-07-31T05:16:29.555582Z"
    },
    "papermill": {
     "duration": 2.739502,
     "end_time": "2024-07-31T05:16:29.559496",
     "exception": false,
     "start_time": "2024-07-31T05:16:26.819994",
     "status": "completed"
    },
    "tags": []
   },
   "outputs": [],
   "source": [
    "# import necessary libraries\n",
    "import numpy as np\n",
    "import pandas as pd\n",
    "import matplotlib.pyplot as plt\n",
    "import seaborn as sns\n",
    "from sklearn.model_selection import train_test_split\n",
    "from sklearn.linear_model import LinearRegression\n",
    "from sklearn.linear_model import Lasso\n",
    "from sklearn import metrics"
   ]
  },
  {
   "cell_type": "code",
   "execution_count": 2,
   "id": "d89ed88f",
   "metadata": {
    "execution": {
     "iopub.execute_input": "2024-07-31T05:16:29.580928Z",
     "iopub.status.busy": "2024-07-31T05:16:29.579797Z",
     "iopub.status.idle": "2024-07-31T05:16:29.604405Z",
     "shell.execute_reply": "2024-07-31T05:16:29.603129Z"
    },
    "papermill": {
     "duration": 0.037928,
     "end_time": "2024-07-31T05:16:29.607190",
     "exception": false,
     "start_time": "2024-07-31T05:16:29.569262",
     "status": "completed"
    },
    "tags": []
   },
   "outputs": [],
   "source": [
    "# import dataset\n",
    "bike_dataset = pd.read_csv(\"/kaggle/input/motorcycle-dataset/BIKE DETAILS.csv\")"
   ]
  },
  {
   "cell_type": "code",
   "execution_count": 3,
   "id": "f7398b1d",
   "metadata": {
    "execution": {
     "iopub.execute_input": "2024-07-31T05:16:29.628452Z",
     "iopub.status.busy": "2024-07-31T05:16:29.628087Z",
     "iopub.status.idle": "2024-07-31T05:16:29.654768Z",
     "shell.execute_reply": "2024-07-31T05:16:29.653509Z"
    },
    "papermill": {
     "duration": 0.039817,
     "end_time": "2024-07-31T05:16:29.657207",
     "exception": false,
     "start_time": "2024-07-31T05:16:29.617390",
     "status": "completed"
    },
    "tags": []
   },
   "outputs": [
    {
     "data": {
      "text/html": [
       "<div>\n",
       "<style scoped>\n",
       "    .dataframe tbody tr th:only-of-type {\n",
       "        vertical-align: middle;\n",
       "    }\n",
       "\n",
       "    .dataframe tbody tr th {\n",
       "        vertical-align: top;\n",
       "    }\n",
       "\n",
       "    .dataframe thead th {\n",
       "        text-align: right;\n",
       "    }\n",
       "</style>\n",
       "<table border=\"1\" class=\"dataframe\">\n",
       "  <thead>\n",
       "    <tr style=\"text-align: right;\">\n",
       "      <th></th>\n",
       "      <th>name</th>\n",
       "      <th>selling_price</th>\n",
       "      <th>year</th>\n",
       "      <th>seller_type</th>\n",
       "      <th>owner</th>\n",
       "      <th>km_driven</th>\n",
       "      <th>ex_showroom_price</th>\n",
       "    </tr>\n",
       "  </thead>\n",
       "  <tbody>\n",
       "    <tr>\n",
       "      <th>0</th>\n",
       "      <td>Royal Enfield Classic 350</td>\n",
       "      <td>175000</td>\n",
       "      <td>2019</td>\n",
       "      <td>Individual</td>\n",
       "      <td>1st owner</td>\n",
       "      <td>350</td>\n",
       "      <td>NaN</td>\n",
       "    </tr>\n",
       "    <tr>\n",
       "      <th>1</th>\n",
       "      <td>Honda Dio</td>\n",
       "      <td>45000</td>\n",
       "      <td>2017</td>\n",
       "      <td>Individual</td>\n",
       "      <td>1st owner</td>\n",
       "      <td>5650</td>\n",
       "      <td>NaN</td>\n",
       "    </tr>\n",
       "    <tr>\n",
       "      <th>2</th>\n",
       "      <td>Royal Enfield Classic Gunmetal Grey</td>\n",
       "      <td>150000</td>\n",
       "      <td>2018</td>\n",
       "      <td>Individual</td>\n",
       "      <td>1st owner</td>\n",
       "      <td>12000</td>\n",
       "      <td>148114.0</td>\n",
       "    </tr>\n",
       "    <tr>\n",
       "      <th>3</th>\n",
       "      <td>Yamaha Fazer FI V 2.0 [2016-2018]</td>\n",
       "      <td>65000</td>\n",
       "      <td>2015</td>\n",
       "      <td>Individual</td>\n",
       "      <td>1st owner</td>\n",
       "      <td>23000</td>\n",
       "      <td>89643.0</td>\n",
       "    </tr>\n",
       "    <tr>\n",
       "      <th>4</th>\n",
       "      <td>Yamaha SZ [2013-2014]</td>\n",
       "      <td>20000</td>\n",
       "      <td>2011</td>\n",
       "      <td>Individual</td>\n",
       "      <td>2nd owner</td>\n",
       "      <td>21000</td>\n",
       "      <td>NaN</td>\n",
       "    </tr>\n",
       "  </tbody>\n",
       "</table>\n",
       "</div>"
      ],
      "text/plain": [
       "                                  name  selling_price  year seller_type  \\\n",
       "0            Royal Enfield Classic 350         175000  2019  Individual   \n",
       "1                            Honda Dio          45000  2017  Individual   \n",
       "2  Royal Enfield Classic Gunmetal Grey         150000  2018  Individual   \n",
       "3    Yamaha Fazer FI V 2.0 [2016-2018]          65000  2015  Individual   \n",
       "4                Yamaha SZ [2013-2014]          20000  2011  Individual   \n",
       "\n",
       "       owner  km_driven  ex_showroom_price  \n",
       "0  1st owner        350                NaN  \n",
       "1  1st owner       5650                NaN  \n",
       "2  1st owner      12000           148114.0  \n",
       "3  1st owner      23000            89643.0  \n",
       "4  2nd owner      21000                NaN  "
      ]
     },
     "execution_count": 3,
     "metadata": {},
     "output_type": "execute_result"
    }
   ],
   "source": [
    "# check first 5 rows\n",
    "bike_dataset.head()"
   ]
  },
  {
   "cell_type": "code",
   "execution_count": 4,
   "id": "dbef814b",
   "metadata": {
    "execution": {
     "iopub.execute_input": "2024-07-31T05:16:29.676842Z",
     "iopub.status.busy": "2024-07-31T05:16:29.676482Z",
     "iopub.status.idle": "2024-07-31T05:16:29.689423Z",
     "shell.execute_reply": "2024-07-31T05:16:29.688313Z"
    },
    "papermill": {
     "duration": 0.025469,
     "end_time": "2024-07-31T05:16:29.691798",
     "exception": false,
     "start_time": "2024-07-31T05:16:29.666329",
     "status": "completed"
    },
    "tags": []
   },
   "outputs": [
    {
     "data": {
      "text/html": [
       "<div>\n",
       "<style scoped>\n",
       "    .dataframe tbody tr th:only-of-type {\n",
       "        vertical-align: middle;\n",
       "    }\n",
       "\n",
       "    .dataframe tbody tr th {\n",
       "        vertical-align: top;\n",
       "    }\n",
       "\n",
       "    .dataframe thead th {\n",
       "        text-align: right;\n",
       "    }\n",
       "</style>\n",
       "<table border=\"1\" class=\"dataframe\">\n",
       "  <thead>\n",
       "    <tr style=\"text-align: right;\">\n",
       "      <th></th>\n",
       "      <th>name</th>\n",
       "      <th>selling_price</th>\n",
       "      <th>year</th>\n",
       "      <th>seller_type</th>\n",
       "      <th>owner</th>\n",
       "      <th>km_driven</th>\n",
       "      <th>ex_showroom_price</th>\n",
       "    </tr>\n",
       "  </thead>\n",
       "  <tbody>\n",
       "    <tr>\n",
       "      <th>1056</th>\n",
       "      <td>Activa 3g</td>\n",
       "      <td>17000</td>\n",
       "      <td>2010</td>\n",
       "      <td>Individual</td>\n",
       "      <td>1st owner</td>\n",
       "      <td>500000</td>\n",
       "      <td>52000.0</td>\n",
       "    </tr>\n",
       "    <tr>\n",
       "      <th>1057</th>\n",
       "      <td>Honda CB twister</td>\n",
       "      <td>16000</td>\n",
       "      <td>2012</td>\n",
       "      <td>Individual</td>\n",
       "      <td>1st owner</td>\n",
       "      <td>33000</td>\n",
       "      <td>51000.0</td>\n",
       "    </tr>\n",
       "    <tr>\n",
       "      <th>1058</th>\n",
       "      <td>Bajaj Discover 125</td>\n",
       "      <td>15000</td>\n",
       "      <td>2013</td>\n",
       "      <td>Individual</td>\n",
       "      <td>2nd owner</td>\n",
       "      <td>35000</td>\n",
       "      <td>57000.0</td>\n",
       "    </tr>\n",
       "    <tr>\n",
       "      <th>1059</th>\n",
       "      <td>Honda CB Shine</td>\n",
       "      <td>12000</td>\n",
       "      <td>2009</td>\n",
       "      <td>Individual</td>\n",
       "      <td>1st owner</td>\n",
       "      <td>53000</td>\n",
       "      <td>58000.0</td>\n",
       "    </tr>\n",
       "    <tr>\n",
       "      <th>1060</th>\n",
       "      <td>Bajaj Pulsar 150</td>\n",
       "      <td>10000</td>\n",
       "      <td>2008</td>\n",
       "      <td>Individual</td>\n",
       "      <td>1st owner</td>\n",
       "      <td>92233</td>\n",
       "      <td>75000.0</td>\n",
       "    </tr>\n",
       "  </tbody>\n",
       "</table>\n",
       "</div>"
      ],
      "text/plain": [
       "                    name  selling_price  year seller_type      owner  \\\n",
       "1056           Activa 3g          17000  2010  Individual  1st owner   \n",
       "1057    Honda CB twister          16000  2012  Individual  1st owner   \n",
       "1058  Bajaj Discover 125          15000  2013  Individual  2nd owner   \n",
       "1059      Honda CB Shine          12000  2009  Individual  1st owner   \n",
       "1060    Bajaj Pulsar 150          10000  2008  Individual  1st owner   \n",
       "\n",
       "      km_driven  ex_showroom_price  \n",
       "1056     500000            52000.0  \n",
       "1057      33000            51000.0  \n",
       "1058      35000            57000.0  \n",
       "1059      53000            58000.0  \n",
       "1060      92233            75000.0  "
      ]
     },
     "execution_count": 4,
     "metadata": {},
     "output_type": "execute_result"
    }
   ],
   "source": [
    "# check last 5 rows\n",
    "bike_dataset.tail()"
   ]
  },
  {
   "cell_type": "code",
   "execution_count": 5,
   "id": "5017da97",
   "metadata": {
    "execution": {
     "iopub.execute_input": "2024-07-31T05:16:29.712483Z",
     "iopub.status.busy": "2024-07-31T05:16:29.712058Z",
     "iopub.status.idle": "2024-07-31T05:16:29.718989Z",
     "shell.execute_reply": "2024-07-31T05:16:29.717895Z"
    },
    "papermill": {
     "duration": 0.01972,
     "end_time": "2024-07-31T05:16:29.721204",
     "exception": false,
     "start_time": "2024-07-31T05:16:29.701484",
     "status": "completed"
    },
    "tags": []
   },
   "outputs": [
    {
     "data": {
      "text/plain": [
       "(1061, 7)"
      ]
     },
     "execution_count": 5,
     "metadata": {},
     "output_type": "execute_result"
    }
   ],
   "source": [
    "# check number of rows and columns of dataset\n",
    "bike_dataset.shape"
   ]
  },
  {
   "cell_type": "code",
   "execution_count": 6,
   "id": "8d5cb8c9",
   "metadata": {
    "execution": {
     "iopub.execute_input": "2024-07-31T05:16:29.742463Z",
     "iopub.status.busy": "2024-07-31T05:16:29.741324Z",
     "iopub.status.idle": "2024-07-31T05:16:29.749227Z",
     "shell.execute_reply": "2024-07-31T05:16:29.748157Z"
    },
    "papermill": {
     "duration": 0.020846,
     "end_time": "2024-07-31T05:16:29.751437",
     "exception": false,
     "start_time": "2024-07-31T05:16:29.730591",
     "status": "completed"
    },
    "tags": []
   },
   "outputs": [
    {
     "data": {
      "text/plain": [
       "7427"
      ]
     },
     "execution_count": 6,
     "metadata": {},
     "output_type": "execute_result"
    }
   ],
   "source": [
    "# check product of number of rows and columns of dataset\n",
    "bike_dataset.size"
   ]
  },
  {
   "cell_type": "code",
   "execution_count": 7,
   "id": "b49b73d7",
   "metadata": {
    "execution": {
     "iopub.execute_input": "2024-07-31T05:16:29.772627Z",
     "iopub.status.busy": "2024-07-31T05:16:29.772240Z",
     "iopub.status.idle": "2024-07-31T05:16:29.779293Z",
     "shell.execute_reply": "2024-07-31T05:16:29.778194Z"
    },
    "papermill": {
     "duration": 0.020604,
     "end_time": "2024-07-31T05:16:29.781676",
     "exception": false,
     "start_time": "2024-07-31T05:16:29.761072",
     "status": "completed"
    },
    "tags": []
   },
   "outputs": [
    {
     "data": {
      "text/plain": [
       "Index(['name', 'selling_price', 'year', 'seller_type', 'owner', 'km_driven',\n",
       "       'ex_showroom_price'],\n",
       "      dtype='object')"
      ]
     },
     "execution_count": 7,
     "metadata": {},
     "output_type": "execute_result"
    }
   ],
   "source": [
    "# check the columns\n",
    "bike_dataset.columns"
   ]
  },
  {
   "cell_type": "code",
   "execution_count": 8,
   "id": "4b11a19c",
   "metadata": {
    "execution": {
     "iopub.execute_input": "2024-07-31T05:16:29.803089Z",
     "iopub.status.busy": "2024-07-31T05:16:29.802698Z",
     "iopub.status.idle": "2024-07-31T05:16:29.828096Z",
     "shell.execute_reply": "2024-07-31T05:16:29.826655Z"
    },
    "papermill": {
     "duration": 0.039464,
     "end_time": "2024-07-31T05:16:29.830891",
     "exception": false,
     "start_time": "2024-07-31T05:16:29.791427",
     "status": "completed"
    },
    "tags": []
   },
   "outputs": [
    {
     "name": "stdout",
     "output_type": "stream",
     "text": [
      "<class 'pandas.core.frame.DataFrame'>\n",
      "RangeIndex: 1061 entries, 0 to 1060\n",
      "Data columns (total 7 columns):\n",
      " #   Column             Non-Null Count  Dtype  \n",
      "---  ------             --------------  -----  \n",
      " 0   name               1061 non-null   object \n",
      " 1   selling_price      1061 non-null   int64  \n",
      " 2   year               1061 non-null   int64  \n",
      " 3   seller_type        1061 non-null   object \n",
      " 4   owner              1061 non-null   object \n",
      " 5   km_driven          1061 non-null   int64  \n",
      " 6   ex_showroom_price  626 non-null    float64\n",
      "dtypes: float64(1), int64(3), object(3)\n",
      "memory usage: 58.1+ KB\n"
     ]
    }
   ],
   "source": [
    "# check the information\n",
    "bike_dataset.info()"
   ]
  },
  {
   "cell_type": "markdown",
   "id": "688f06c9",
   "metadata": {
    "papermill": {
     "duration": 0.009712,
     "end_time": "2024-07-31T05:16:29.850599",
     "exception": false,
     "start_time": "2024-07-31T05:16:29.840887",
     "status": "completed"
    },
    "tags": []
   },
   "source": [
    "## Data Cleaning"
   ]
  },
  {
   "cell_type": "code",
   "execution_count": 9,
   "id": "f1a0fc52",
   "metadata": {
    "execution": {
     "iopub.execute_input": "2024-07-31T05:16:29.871818Z",
     "iopub.status.busy": "2024-07-31T05:16:29.871398Z",
     "iopub.status.idle": "2024-07-31T05:16:29.880148Z",
     "shell.execute_reply": "2024-07-31T05:16:29.879001Z"
    },
    "papermill": {
     "duration": 0.022061,
     "end_time": "2024-07-31T05:16:29.882544",
     "exception": false,
     "start_time": "2024-07-31T05:16:29.860483",
     "status": "completed"
    },
    "tags": []
   },
   "outputs": [
    {
     "data": {
      "text/plain": [
       "name                   0\n",
       "selling_price          0\n",
       "year                   0\n",
       "seller_type            0\n",
       "owner                  0\n",
       "km_driven              0\n",
       "ex_showroom_price    435\n",
       "dtype: int64"
      ]
     },
     "execution_count": 9,
     "metadata": {},
     "output_type": "execute_result"
    }
   ],
   "source": [
    "# check null values\n",
    "bike_dataset.isnull().sum()"
   ]
  },
  {
   "cell_type": "code",
   "execution_count": 10,
   "id": "dc07afb5",
   "metadata": {
    "execution": {
     "iopub.execute_input": "2024-07-31T05:16:29.904440Z",
     "iopub.status.busy": "2024-07-31T05:16:29.903380Z",
     "iopub.status.idle": "2024-07-31T05:16:29.912719Z",
     "shell.execute_reply": "2024-07-31T05:16:29.911629Z"
    },
    "papermill": {
     "duration": 0.02282,
     "end_time": "2024-07-31T05:16:29.915322",
     "exception": false,
     "start_time": "2024-07-31T05:16:29.892502",
     "status": "completed"
    },
    "tags": []
   },
   "outputs": [],
   "source": [
    "# drop all null values\n",
    "bike_dataset.dropna(inplace=True)"
   ]
  },
  {
   "cell_type": "code",
   "execution_count": 11,
   "id": "c09bfce4",
   "metadata": {
    "execution": {
     "iopub.execute_input": "2024-07-31T05:16:29.937770Z",
     "iopub.status.busy": "2024-07-31T05:16:29.936791Z",
     "iopub.status.idle": "2024-07-31T05:16:29.945759Z",
     "shell.execute_reply": "2024-07-31T05:16:29.944406Z"
    },
    "papermill": {
     "duration": 0.02252,
     "end_time": "2024-07-31T05:16:29.948251",
     "exception": false,
     "start_time": "2024-07-31T05:16:29.925731",
     "status": "completed"
    },
    "tags": []
   },
   "outputs": [
    {
     "data": {
      "text/plain": [
       "name                 0\n",
       "selling_price        0\n",
       "year                 0\n",
       "seller_type          0\n",
       "owner                0\n",
       "km_driven            0\n",
       "ex_showroom_price    0\n",
       "dtype: int64"
      ]
     },
     "execution_count": 11,
     "metadata": {},
     "output_type": "execute_result"
    }
   ],
   "source": [
    "# recheck null values\n",
    "bike_dataset.isnull().sum()"
   ]
  },
  {
   "cell_type": "code",
   "execution_count": 12,
   "id": "5a446b7d",
   "metadata": {
    "execution": {
     "iopub.execute_input": "2024-07-31T05:16:29.969998Z",
     "iopub.status.busy": "2024-07-31T05:16:29.969610Z",
     "iopub.status.idle": "2024-07-31T05:16:29.980151Z",
     "shell.execute_reply": "2024-07-31T05:16:29.978911Z"
    },
    "papermill": {
     "duration": 0.024369,
     "end_time": "2024-07-31T05:16:29.982717",
     "exception": false,
     "start_time": "2024-07-31T05:16:29.958348",
     "status": "completed"
    },
    "tags": []
   },
   "outputs": [
    {
     "data": {
      "text/plain": [
       "4"
      ]
     },
     "execution_count": 12,
     "metadata": {},
     "output_type": "execute_result"
    }
   ],
   "source": [
    "# check duplicate rows\n",
    "bike_dataset.duplicated().sum()"
   ]
  },
  {
   "cell_type": "code",
   "execution_count": 13,
   "id": "8096d732",
   "metadata": {
    "execution": {
     "iopub.execute_input": "2024-07-31T05:16:30.004742Z",
     "iopub.status.busy": "2024-07-31T05:16:30.004375Z",
     "iopub.status.idle": "2024-07-31T05:16:30.012572Z",
     "shell.execute_reply": "2024-07-31T05:16:30.011415Z"
    },
    "papermill": {
     "duration": 0.022113,
     "end_time": "2024-07-31T05:16:30.015158",
     "exception": false,
     "start_time": "2024-07-31T05:16:29.993045",
     "status": "completed"
    },
    "tags": []
   },
   "outputs": [],
   "source": [
    "# drop duplicate rows\n",
    "bike_dataset.drop_duplicates(inplace=True)"
   ]
  },
  {
   "cell_type": "code",
   "execution_count": 14,
   "id": "7d56c073",
   "metadata": {
    "execution": {
     "iopub.execute_input": "2024-07-31T05:16:30.037929Z",
     "iopub.status.busy": "2024-07-31T05:16:30.037395Z",
     "iopub.status.idle": "2024-07-31T05:16:30.044557Z",
     "shell.execute_reply": "2024-07-31T05:16:30.043483Z"
    },
    "papermill": {
     "duration": 0.020522,
     "end_time": "2024-07-31T05:16:30.046672",
     "exception": false,
     "start_time": "2024-07-31T05:16:30.026150",
     "status": "completed"
    },
    "tags": []
   },
   "outputs": [
    {
     "data": {
      "text/plain": [
       "(622, 7)"
      ]
     },
     "execution_count": 14,
     "metadata": {},
     "output_type": "execute_result"
    }
   ],
   "source": [
    "# recheck shape\n",
    "bike_dataset.shape"
   ]
  },
  {
   "cell_type": "markdown",
   "id": "c9612c51",
   "metadata": {
    "papermill": {
     "duration": 0.00985,
     "end_time": "2024-07-31T05:16:30.066629",
     "exception": false,
     "start_time": "2024-07-31T05:16:30.056779",
     "status": "completed"
    },
    "tags": []
   },
   "source": [
    "## Data Encoding"
   ]
  },
  {
   "cell_type": "code",
   "execution_count": 15,
   "id": "f1ab4dd2",
   "metadata": {
    "execution": {
     "iopub.execute_input": "2024-07-31T05:16:30.089236Z",
     "iopub.status.busy": "2024-07-31T05:16:30.088820Z",
     "iopub.status.idle": "2024-07-31T05:16:30.097246Z",
     "shell.execute_reply": "2024-07-31T05:16:30.096095Z"
    },
    "papermill": {
     "duration": 0.022825,
     "end_time": "2024-07-31T05:16:30.100089",
     "exception": false,
     "start_time": "2024-07-31T05:16:30.077264",
     "status": "completed"
    },
    "tags": []
   },
   "outputs": [
    {
     "name": "stdout",
     "output_type": "stream",
     "text": [
      "owner\n",
      "1st owner    552\n",
      "2nd owner     66\n",
      "3rd owner      3\n",
      "4th owner      1\n",
      "Name: count, dtype: int64\n",
      "seller_type\n",
      "Individual    619\n",
      "Dealer          3\n",
      "Name: count, dtype: int64\n"
     ]
    }
   ],
   "source": [
    "# check distribution of categorical data\n",
    "print(bike_dataset.owner.value_counts())\n",
    "print(bike_dataset.seller_type.value_counts())"
   ]
  },
  {
   "cell_type": "code",
   "execution_count": 16,
   "id": "d9f9a6f9",
   "metadata": {
    "execution": {
     "iopub.execute_input": "2024-07-31T05:16:30.123003Z",
     "iopub.status.busy": "2024-07-31T05:16:30.122622Z",
     "iopub.status.idle": "2024-07-31T05:16:30.132842Z",
     "shell.execute_reply": "2024-07-31T05:16:30.131708Z"
    },
    "papermill": {
     "duration": 0.024797,
     "end_time": "2024-07-31T05:16:30.135146",
     "exception": false,
     "start_time": "2024-07-31T05:16:30.110349",
     "status": "completed"
    },
    "tags": []
   },
   "outputs": [
    {
     "name": "stderr",
     "output_type": "stream",
     "text": [
      "/tmp/ipykernel_18/3606033486.py:2: FutureWarning: Downcasting behavior in `replace` is deprecated and will be removed in a future version. To retain the old behavior, explicitly call `result.infer_objects(copy=False)`. To opt-in to the future behavior, set `pd.set_option('future.no_silent_downcasting', True)`\n",
      "  bike_dataset.replace({'owner':{'1st owner':0,'2nd owner':1,'3rd owner':2, '4th owner':3}},inplace=True)\n",
      "/tmp/ipykernel_18/3606033486.py:5: FutureWarning: Downcasting behavior in `replace` is deprecated and will be removed in a future version. To retain the old behavior, explicitly call `result.infer_objects(copy=False)`. To opt-in to the future behavior, set `pd.set_option('future.no_silent_downcasting', True)`\n",
      "  bike_dataset.replace({'seller_type':{'Dealer':0,'Individual':1}},inplace=True)\n"
     ]
    }
   ],
   "source": [
    "# encoding \"Owner\" Column\n",
    "bike_dataset.replace({'owner':{'1st owner':0,'2nd owner':1,'3rd owner':2, '4th owner':3}},inplace=True)\n",
    "\n",
    "# encoding \"Seller_Type\" Column\n",
    "bike_dataset.replace({'seller_type':{'Dealer':0,'Individual':1}},inplace=True)"
   ]
  },
  {
   "cell_type": "markdown",
   "id": "c4e52218",
   "metadata": {
    "papermill": {
     "duration": 0.009962,
     "end_time": "2024-07-31T05:16:30.155475",
     "exception": false,
     "start_time": "2024-07-31T05:16:30.145513",
     "status": "completed"
    },
    "tags": []
   },
   "source": [
    "## Linear Regression"
   ]
  },
  {
   "cell_type": "code",
   "execution_count": 17,
   "id": "e46c6e95",
   "metadata": {
    "execution": {
     "iopub.execute_input": "2024-07-31T05:16:30.177579Z",
     "iopub.status.busy": "2024-07-31T05:16:30.176779Z",
     "iopub.status.idle": "2024-07-31T05:16:30.183248Z",
     "shell.execute_reply": "2024-07-31T05:16:30.182077Z"
    },
    "papermill": {
     "duration": 0.019845,
     "end_time": "2024-07-31T05:16:30.185526",
     "exception": false,
     "start_time": "2024-07-31T05:16:30.165681",
     "status": "completed"
    },
    "tags": []
   },
   "outputs": [],
   "source": [
    "# split data into X and Y\n",
    "X = bike_dataset.drop(['name','selling_price'],axis=1)\n",
    "Y = bike_dataset['selling_price']"
   ]
  },
  {
   "cell_type": "code",
   "execution_count": 18,
   "id": "4b918e77",
   "metadata": {
    "execution": {
     "iopub.execute_input": "2024-07-31T05:16:30.207929Z",
     "iopub.status.busy": "2024-07-31T05:16:30.207503Z",
     "iopub.status.idle": "2024-07-31T05:16:30.216370Z",
     "shell.execute_reply": "2024-07-31T05:16:30.215236Z"
    },
    "papermill": {
     "duration": 0.023008,
     "end_time": "2024-07-31T05:16:30.218878",
     "exception": false,
     "start_time": "2024-07-31T05:16:30.195870",
     "status": "completed"
    },
    "tags": []
   },
   "outputs": [],
   "source": [
    "# split data into train and test\n",
    "X_train, X_test, Y_train, Y_test = train_test_split(X, Y, test_size = 0.1, random_state=2)"
   ]
  },
  {
   "cell_type": "code",
   "execution_count": 19,
   "id": "4c45d464",
   "metadata": {
    "execution": {
     "iopub.execute_input": "2024-07-31T05:16:30.241455Z",
     "iopub.status.busy": "2024-07-31T05:16:30.240537Z",
     "iopub.status.idle": "2024-07-31T05:16:30.245852Z",
     "shell.execute_reply": "2024-07-31T05:16:30.244609Z"
    },
    "papermill": {
     "duration": 0.019285,
     "end_time": "2024-07-31T05:16:30.248487",
     "exception": false,
     "start_time": "2024-07-31T05:16:30.229202",
     "status": "completed"
    },
    "tags": []
   },
   "outputs": [],
   "source": [
    "# load linear regression model\n",
    "lin_reg_model = LinearRegression()"
   ]
  },
  {
   "cell_type": "code",
   "execution_count": 20,
   "id": "da3ceec5",
   "metadata": {
    "execution": {
     "iopub.execute_input": "2024-07-31T05:16:30.270782Z",
     "iopub.status.busy": "2024-07-31T05:16:30.270422Z",
     "iopub.status.idle": "2024-07-31T05:16:30.302564Z",
     "shell.execute_reply": "2024-07-31T05:16:30.301519Z"
    },
    "papermill": {
     "duration": 0.045879,
     "end_time": "2024-07-31T05:16:30.304926",
     "exception": false,
     "start_time": "2024-07-31T05:16:30.259047",
     "status": "completed"
    },
    "tags": []
   },
   "outputs": [
    {
     "data": {
      "text/html": [
       "<style>#sk-container-id-1 {color: black;background-color: white;}#sk-container-id-1 pre{padding: 0;}#sk-container-id-1 div.sk-toggleable {background-color: white;}#sk-container-id-1 label.sk-toggleable__label {cursor: pointer;display: block;width: 100%;margin-bottom: 0;padding: 0.3em;box-sizing: border-box;text-align: center;}#sk-container-id-1 label.sk-toggleable__label-arrow:before {content: \"▸\";float: left;margin-right: 0.25em;color: #696969;}#sk-container-id-1 label.sk-toggleable__label-arrow:hover:before {color: black;}#sk-container-id-1 div.sk-estimator:hover label.sk-toggleable__label-arrow:before {color: black;}#sk-container-id-1 div.sk-toggleable__content {max-height: 0;max-width: 0;overflow: hidden;text-align: left;background-color: #f0f8ff;}#sk-container-id-1 div.sk-toggleable__content pre {margin: 0.2em;color: black;border-radius: 0.25em;background-color: #f0f8ff;}#sk-container-id-1 input.sk-toggleable__control:checked~div.sk-toggleable__content {max-height: 200px;max-width: 100%;overflow: auto;}#sk-container-id-1 input.sk-toggleable__control:checked~label.sk-toggleable__label-arrow:before {content: \"▾\";}#sk-container-id-1 div.sk-estimator input.sk-toggleable__control:checked~label.sk-toggleable__label {background-color: #d4ebff;}#sk-container-id-1 div.sk-label input.sk-toggleable__control:checked~label.sk-toggleable__label {background-color: #d4ebff;}#sk-container-id-1 input.sk-hidden--visually {border: 0;clip: rect(1px 1px 1px 1px);clip: rect(1px, 1px, 1px, 1px);height: 1px;margin: -1px;overflow: hidden;padding: 0;position: absolute;width: 1px;}#sk-container-id-1 div.sk-estimator {font-family: monospace;background-color: #f0f8ff;border: 1px dotted black;border-radius: 0.25em;box-sizing: border-box;margin-bottom: 0.5em;}#sk-container-id-1 div.sk-estimator:hover {background-color: #d4ebff;}#sk-container-id-1 div.sk-parallel-item::after {content: \"\";width: 100%;border-bottom: 1px solid gray;flex-grow: 1;}#sk-container-id-1 div.sk-label:hover label.sk-toggleable__label {background-color: #d4ebff;}#sk-container-id-1 div.sk-serial::before {content: \"\";position: absolute;border-left: 1px solid gray;box-sizing: border-box;top: 0;bottom: 0;left: 50%;z-index: 0;}#sk-container-id-1 div.sk-serial {display: flex;flex-direction: column;align-items: center;background-color: white;padding-right: 0.2em;padding-left: 0.2em;position: relative;}#sk-container-id-1 div.sk-item {position: relative;z-index: 1;}#sk-container-id-1 div.sk-parallel {display: flex;align-items: stretch;justify-content: center;background-color: white;position: relative;}#sk-container-id-1 div.sk-item::before, #sk-container-id-1 div.sk-parallel-item::before {content: \"\";position: absolute;border-left: 1px solid gray;box-sizing: border-box;top: 0;bottom: 0;left: 50%;z-index: -1;}#sk-container-id-1 div.sk-parallel-item {display: flex;flex-direction: column;z-index: 1;position: relative;background-color: white;}#sk-container-id-1 div.sk-parallel-item:first-child::after {align-self: flex-end;width: 50%;}#sk-container-id-1 div.sk-parallel-item:last-child::after {align-self: flex-start;width: 50%;}#sk-container-id-1 div.sk-parallel-item:only-child::after {width: 0;}#sk-container-id-1 div.sk-dashed-wrapped {border: 1px dashed gray;margin: 0 0.4em 0.5em 0.4em;box-sizing: border-box;padding-bottom: 0.4em;background-color: white;}#sk-container-id-1 div.sk-label label {font-family: monospace;font-weight: bold;display: inline-block;line-height: 1.2em;}#sk-container-id-1 div.sk-label-container {text-align: center;}#sk-container-id-1 div.sk-container {/* jupyter's `normalize.less` sets `[hidden] { display: none; }` but bootstrap.min.css set `[hidden] { display: none !important; }` so we also need the `!important` here to be able to override the default hidden behavior on the sphinx rendered scikit-learn.org. See: https://github.com/scikit-learn/scikit-learn/issues/21755 */display: inline-block !important;position: relative;}#sk-container-id-1 div.sk-text-repr-fallback {display: none;}</style><div id=\"sk-container-id-1\" class=\"sk-top-container\"><div class=\"sk-text-repr-fallback\"><pre>LinearRegression()</pre><b>In a Jupyter environment, please rerun this cell to show the HTML representation or trust the notebook. <br />On GitHub, the HTML representation is unable to render, please try loading this page with nbviewer.org.</b></div><div class=\"sk-container\" hidden><div class=\"sk-item\"><div class=\"sk-estimator sk-toggleable\"><input class=\"sk-toggleable__control sk-hidden--visually\" id=\"sk-estimator-id-1\" type=\"checkbox\" checked><label for=\"sk-estimator-id-1\" class=\"sk-toggleable__label sk-toggleable__label-arrow\">LinearRegression</label><div class=\"sk-toggleable__content\"><pre>LinearRegression()</pre></div></div></div></div></div>"
      ],
      "text/plain": [
       "LinearRegression()"
      ]
     },
     "execution_count": 20,
     "metadata": {},
     "output_type": "execute_result"
    }
   ],
   "source": [
    "# fit data into linear regression model\n",
    "lin_reg_model.fit(X_train,Y_train)"
   ]
  },
  {
   "cell_type": "code",
   "execution_count": 21,
   "id": "e9659075",
   "metadata": {
    "execution": {
     "iopub.execute_input": "2024-07-31T05:16:30.329326Z",
     "iopub.status.busy": "2024-07-31T05:16:30.328360Z",
     "iopub.status.idle": "2024-07-31T05:16:30.335277Z",
     "shell.execute_reply": "2024-07-31T05:16:30.334300Z"
    },
    "papermill": {
     "duration": 0.021192,
     "end_time": "2024-07-31T05:16:30.337593",
     "exception": false,
     "start_time": "2024-07-31T05:16:30.316401",
     "status": "completed"
    },
    "tags": []
   },
   "outputs": [],
   "source": [
    "# predict training data\n",
    "training_data_prediction = lin_reg_model.predict(X_train)"
   ]
  },
  {
   "cell_type": "code",
   "execution_count": 22,
   "id": "bdfef34f",
   "metadata": {
    "execution": {
     "iopub.execute_input": "2024-07-31T05:16:30.360300Z",
     "iopub.status.busy": "2024-07-31T05:16:30.359921Z",
     "iopub.status.idle": "2024-07-31T05:16:30.366856Z",
     "shell.execute_reply": "2024-07-31T05:16:30.365729Z"
    },
    "papermill": {
     "duration": 0.020939,
     "end_time": "2024-07-31T05:16:30.369133",
     "exception": false,
     "start_time": "2024-07-31T05:16:30.348194",
     "status": "completed"
    },
    "tags": []
   },
   "outputs": [
    {
     "name": "stdout",
     "output_type": "stream",
     "text": [
      "R squared Error :  0.9002556977144476\n"
     ]
    }
   ],
   "source": [
    "# evaluate the model\n",
    "error_score = metrics.r2_score(Y_train, training_data_prediction)\n",
    "print(\"R squared Error : \", error_score)"
   ]
  },
  {
   "cell_type": "code",
   "execution_count": 23,
   "id": "94aa4ccf",
   "metadata": {
    "execution": {
     "iopub.execute_input": "2024-07-31T05:16:30.391884Z",
     "iopub.status.busy": "2024-07-31T05:16:30.391481Z",
     "iopub.status.idle": "2024-07-31T05:16:30.686986Z",
     "shell.execute_reply": "2024-07-31T05:16:30.685778Z"
    },
    "papermill": {
     "duration": 0.309939,
     "end_time": "2024-07-31T05:16:30.689639",
     "exception": false,
     "start_time": "2024-07-31T05:16:30.379700",
     "status": "completed"
    },
    "tags": []
   },
   "outputs": [
    {
     "data": {
      "image/png": "[encoded data removed]",
      "text/plain": [
       "<Figure size 640x480 with 1 Axes>"
      ]
     },
     "metadata": {},
     "output_type": "display_data"
    }
   ],
   "source": [
    "# plot actual vs predicted data\n",
    "plt.scatter(Y_train, training_data_prediction)\n",
    "plt.xlabel(\"Actual Price\")\n",
    "plt.ylabel(\"Predicted Price\")\n",
    "plt.title(\" Actual Prices vs Predicted Prices\")\n",
    "plt.show()"
   ]
  },
  {
   "cell_type": "code",
   "execution_count": 24,
   "id": "40ddf7d0",
   "metadata": {
    "execution": {
     "iopub.execute_input": "2024-07-31T05:16:30.714206Z",
     "iopub.status.busy": "2024-07-31T05:16:30.713808Z",
     "iopub.status.idle": "2024-07-31T05:16:30.721016Z",
     "shell.execute_reply": "2024-07-31T05:16:30.719911Z"
    },
    "papermill": {
     "duration": 0.02249,
     "end_time": "2024-07-31T05:16:30.723456",
     "exception": false,
     "start_time": "2024-07-31T05:16:30.700966",
     "status": "completed"
    },
    "tags": []
   },
   "outputs": [],
   "source": [
    "# predict testing data\n",
    "test_data_prediction = lin_reg_model.predict(X_test)"
   ]
  },
  {
   "cell_type": "code",
   "execution_count": 25,
   "id": "27e5f74b",
   "metadata": {
    "execution": {
     "iopub.execute_input": "2024-07-31T05:16:30.748237Z",
     "iopub.status.busy": "2024-07-31T05:16:30.747329Z",
     "iopub.status.idle": "2024-07-31T05:16:30.753781Z",
     "shell.execute_reply": "2024-07-31T05:16:30.752772Z"
    },
    "papermill": {
     "duration": 0.021281,
     "end_time": "2024-07-31T05:16:30.756093",
     "exception": false,
     "start_time": "2024-07-31T05:16:30.734812",
     "status": "completed"
    },
    "tags": []
   },
   "outputs": [
    {
     "name": "stdout",
     "output_type": "stream",
     "text": [
      "R squared Error :  0.9105667477983609\n"
     ]
    }
   ],
   "source": [
    "# evaluate the model\n",
    "error_score = metrics.r2_score(Y_test, test_data_prediction)\n",
    "print(\"R squared Error : \", error_score)"
   ]
  },
  {
   "cell_type": "code",
   "execution_count": 26,
   "id": "cd59ca13",
   "metadata": {
    "execution": {
     "iopub.execute_input": "2024-07-31T05:16:30.780007Z",
     "iopub.status.busy": "2024-07-31T05:16:30.779618Z",
     "iopub.status.idle": "2024-07-31T05:16:31.060060Z",
     "shell.execute_reply": "2024-07-31T05:16:31.058912Z"
    },
    "papermill": {
     "duration": 0.295322,
     "end_time": "2024-07-31T05:16:31.062562",
     "exception": false,
     "start_time": "2024-07-31T05:16:30.767240",
     "status": "completed"
    },
    "tags": []
   },
   "outputs": [
    {
     "data": {
      "image/png": "[encoded data removed]",
      "text/plain": [
       "<Figure size 640x480 with 1 Axes>"
      ]
     },
     "metadata": {},
     "output_type": "display_data"
    }
   ],
   "source": [
    "# plot actual vs predicted data\n",
    "plt.scatter(Y_test, test_data_prediction)\n",
    "plt.xlabel(\"Actual Price\")\n",
    "plt.ylabel(\"Predicted Price\")\n",
    "plt.title(\" Actual Prices vs Predicted Prices\")\n",
    "plt.show()"
   ]
  },
  {
   "cell_type": "markdown",
   "id": "e381b373",
   "metadata": {
    "papermill": {
     "duration": 0.012653,
     "end_time": "2024-07-31T05:16:31.087055",
     "exception": false,
     "start_time": "2024-07-31T05:16:31.074402",
     "status": "completed"
    },
    "tags": []
   },
   "source": [
    "## Lasso Regression"
   ]
  },
  {
   "cell_type": "code",
   "execution_count": 27,
   "id": "fc31e09a",
   "metadata": {
    "execution": {
     "iopub.execute_input": "2024-07-31T05:16:31.170475Z",
     "iopub.status.busy": "2024-07-31T05:16:31.170087Z",
     "iopub.status.idle": "2024-07-31T05:16:31.174707Z",
     "shell.execute_reply": "2024-07-31T05:16:31.173702Z"
    },
    "papermill": {
     "duration": 0.077717,
     "end_time": "2024-07-31T05:16:31.176980",
     "exception": false,
     "start_time": "2024-07-31T05:16:31.099263",
     "status": "completed"
    },
    "tags": []
   },
   "outputs": [],
   "source": [
    "# load lasso regression model\n",
    "lass_reg_model = Lasso()"
   ]
  },
  {
   "cell_type": "code",
   "execution_count": 28,
   "id": "5e63323e",
   "metadata": {
    "execution": {
     "iopub.execute_input": "2024-07-31T05:16:31.202168Z",
     "iopub.status.busy": "2024-07-31T05:16:31.201792Z",
     "iopub.status.idle": "2024-07-31T05:16:31.215472Z",
     "shell.execute_reply": "2024-07-31T05:16:31.214193Z"
    },
    "papermill": {
     "duration": 0.028892,
     "end_time": "2024-07-31T05:16:31.217948",
     "exception": false,
     "start_time": "2024-07-31T05:16:31.189056",
     "status": "completed"
    },
    "tags": []
   },
   "outputs": [
    {
     "data": {
      "text/html": [
       "<style>#sk-container-id-2 {color: black;background-color: white;}#sk-container-id-2 pre{padding: 0;}#sk-container-id-2 div.sk-toggleable {background-color: white;}#sk-container-id-2 label.sk-toggleable__label {cursor: pointer;display: block;width: 100%;margin-bottom: 0;padding: 0.3em;box-sizing: border-box;text-align: center;}#sk-container-id-2 label.sk-toggleable__label-arrow:before {content: \"▸\";float: left;margin-right: 0.25em;color: #696969;}#sk-container-id-2 label.sk-toggleable__label-arrow:hover:before {color: black;}#sk-container-id-2 div.sk-estimator:hover label.sk-toggleable__label-arrow:before {color: black;}#sk-container-id-2 div.sk-toggleable__content {max-height: 0;max-width: 0;overflow: hidden;text-align: left;background-color: #f0f8ff;}#sk-container-id-2 div.sk-toggleable__content pre {margin: 0.2em;color: black;border-radius: 0.25em;background-color: #f0f8ff;}#sk-container-id-2 input.sk-toggleable__control:checked~div.sk-toggleable__content {max-height: 200px;max-width: 100%;overflow: auto;}#sk-container-id-2 input.sk-toggleable__control:checked~label.sk-toggleable__label-arrow:before {content: \"▾\";}#sk-container-id-2 div.sk-estimator input.sk-toggleable__control:checked~label.sk-toggleable__label {background-color: #d4ebff;}#sk-container-id-2 div.sk-label input.sk-toggleable__control:checked~label.sk-toggleable__label {background-color: #d4ebff;}#sk-container-id-2 input.sk-hidden--visually {border: 0;clip: rect(1px 1px 1px 1px);clip: rect(1px, 1px, 1px, 1px);height: 1px;margin: -1px;overflow: hidden;padding: 0;position: absolute;width: 1px;}#sk-container-id-2 div.sk-estimator {font-family: monospace;background-color: #f0f8ff;border: 1px dotted black;border-radius: 0.25em;box-sizing: border-box;margin-bottom: 0.5em;}#sk-container-id-2 div.sk-estimator:hover {background-color: #d4ebff;}#sk-container-id-2 div.sk-parallel-item::after {content: \"\";width: 100%;border-bottom: 1px solid gray;flex-grow: 1;}#sk-container-id-2 div.sk-label:hover label.sk-toggleable__label {background-color: #d4ebff;}#sk-container-id-2 div.sk-serial::before {content: \"\";position: absolute;border-left: 1px solid gray;box-sizing: border-box;top: 0;bottom: 0;left: 50%;z-index: 0;}#sk-container-id-2 div.sk-serial {display: flex;flex-direction: column;align-items: center;background-color: white;padding-right: 0.2em;padding-left: 0.2em;position: relative;}#sk-container-id-2 div.sk-item {position: relative;z-index: 1;}#sk-container-id-2 div.sk-parallel {display: flex;align-items: stretch;justify-content: center;background-color: white;position: relative;}#sk-container-id-2 div.sk-item::before, #sk-container-id-2 div.sk-parallel-item::before {content: \"\";position: absolute;border-left: 1px solid gray;box-sizing: border-box;top: 0;bottom: 0;left: 50%;z-index: -1;}#sk-container-id-2 div.sk-parallel-item {display: flex;flex-direction: column;z-index: 1;position: relative;background-color: white;}#sk-container-id-2 div.sk-parallel-item:first-child::after {align-self: flex-end;width: 50%;}#sk-container-id-2 div.sk-parallel-item:last-child::after {align-self: flex-start;width: 50%;}#sk-container-id-2 div.sk-parallel-item:only-child::after {width: 0;}#sk-container-id-2 div.sk-dashed-wrapped {border: 1px dashed gray;margin: 0 0.4em 0.5em 0.4em;box-sizing: border-box;padding-bottom: 0.4em;background-color: white;}#sk-container-id-2 div.sk-label label {font-family: monospace;font-weight: bold;display: inline-block;line-height: 1.2em;}#sk-container-id-2 div.sk-label-container {text-align: center;}#sk-container-id-2 div.sk-container {/* jupyter's `normalize.less` sets `[hidden] { display: none; }` but bootstrap.min.css set `[hidden] { display: none !important; }` so we also need the `!important` here to be able to override the default hidden behavior on the sphinx rendered scikit-learn.org. See: https://github.com/scikit-learn/scikit-learn/issues/21755 */display: inline-block !important;position: relative;}#sk-container-id-2 div.sk-text-repr-fallback {display: none;}</style><div id=\"sk-container-id-2\" class=\"sk-top-container\"><div class=\"sk-text-repr-fallback\"><pre>Lasso()</pre><b>In a Jupyter environment, please rerun this cell to show the HTML representation or trust the notebook. <br />On GitHub, the HTML representation is unable to render, please try loading this page with nbviewer.org.</b></div><div class=\"sk-container\" hidden><div class=\"sk-item\"><div class=\"sk-estimator sk-toggleable\"><input class=\"sk-toggleable__control sk-hidden--visually\" id=\"sk-estimator-id-2\" type=\"checkbox\" checked><label for=\"sk-estimator-id-2\" class=\"sk-toggleable__label sk-toggleable__label-arrow\">Lasso</label><div class=\"sk-toggleable__content\"><pre>Lasso()</pre></div></div></div></div></div>"
      ],
      "text/plain": [
       "Lasso()"
      ]
     },
     "execution_count": 28,
     "metadata": {},
     "output_type": "execute_result"
    }
   ],
   "source": [
    "# fit data into lasso regression model\n",
    "lass_reg_model.fit(X_train,Y_train)"
   ]
  },
  {
   "cell_type": "code",
   "execution_count": 29,
   "id": "a3cd729c",
   "metadata": {
    "execution": {
     "iopub.execute_input": "2024-07-31T05:16:31.243269Z",
     "iopub.status.busy": "2024-07-31T05:16:31.242916Z",
     "iopub.status.idle": "2024-07-31T05:16:31.249993Z",
     "shell.execute_reply": "2024-07-31T05:16:31.248578Z"
    },
    "papermill": {
     "duration": 0.022412,
     "end_time": "2024-07-31T05:16:31.252342",
     "exception": false,
     "start_time": "2024-07-31T05:16:31.229930",
     "status": "completed"
    },
    "tags": []
   },
   "outputs": [],
   "source": [
    "# predict training data\n",
    "training_data_prediction = lass_reg_model.predict(X_train)"
   ]
  },
  {
   "cell_type": "code",
   "execution_count": 30,
   "id": "fd2e49f6",
   "metadata": {
    "execution": {
     "iopub.execute_input": "2024-07-31T05:16:31.278248Z",
     "iopub.status.busy": "2024-07-31T05:16:31.277433Z",
     "iopub.status.idle": "2024-07-31T05:16:31.284426Z",
     "shell.execute_reply": "2024-07-31T05:16:31.283404Z"
    },
    "papermill": {
     "duration": 0.022445,
     "end_time": "2024-07-31T05:16:31.286811",
     "exception": false,
     "start_time": "2024-07-31T05:16:31.264366",
     "status": "completed"
    },
    "tags": []
   },
   "outputs": [
    {
     "name": "stdout",
     "output_type": "stream",
     "text": [
      "R squared Error :  0.9002555470259558\n"
     ]
    }
   ],
   "source": [
    "# evaluate the model\n",
    "error_score = metrics.r2_score(Y_train, training_data_prediction)\n",
    "print(\"R squared Error : \", error_score)"
   ]
  },
  {
   "cell_type": "code",
   "execution_count": 31,
   "id": "c192a0c9",
   "metadata": {
    "execution": {
     "iopub.execute_input": "2024-07-31T05:16:31.312601Z",
     "iopub.status.busy": "2024-07-31T05:16:31.312083Z",
     "iopub.status.idle": "2024-07-31T05:16:31.574265Z",
     "shell.execute_reply": "2024-07-31T05:16:31.572895Z"
    },
    "papermill": {
     "duration": 0.2779,
     "end_time": "2024-07-31T05:16:31.576748",
     "exception": false,
     "start_time": "2024-07-31T05:16:31.298848",
     "status": "completed"
    },
    "tags": []
   },
   "outputs": [
    {
     "data": {
      "image/png": "[encoded data removed]",
      "text/plain": [
       "<Figure size 640x480 with 1 Axes>"
      ]
     },
     "metadata": {},
     "output_type": "display_data"
    }
   ],
   "source": [
    "# plot actual vs predicted data\n",
    "plt.scatter(Y_train, training_data_prediction)\n",
    "plt.xlabel(\"Actual Price\")\n",
    "plt.ylabel(\"Predicted Price\")\n",
    "plt.title(\" Actual Prices vs Predicted Prices\")\n",
    "plt.show()"
   ]
  },
  {
   "cell_type": "code",
   "execution_count": 32,
   "id": "5e70f151",
   "metadata": {
    "execution": {
     "iopub.execute_input": "2024-07-31T05:16:31.604444Z",
     "iopub.status.busy": "2024-07-31T05:16:31.604037Z",
     "iopub.status.idle": "2024-07-31T05:16:31.611166Z",
     "shell.execute_reply": "2024-07-31T05:16:31.609920Z"
    },
    "papermill": {
     "duration": 0.02359,
     "end_time": "2024-07-31T05:16:31.613523",
     "exception": false,
     "start_time": "2024-07-31T05:16:31.589933",
     "status": "completed"
    },
    "tags": []
   },
   "outputs": [],
   "source": [
    "# predict testing data\n",
    "test_data_prediction = lass_reg_model.predict(X_test)"
   ]
  },
  {
   "cell_type": "code",
   "execution_count": 33,
   "id": "863ab2fe",
   "metadata": {
    "execution": {
     "iopub.execute_input": "2024-07-31T05:16:31.642508Z",
     "iopub.status.busy": "2024-07-31T05:16:31.642112Z",
     "iopub.status.idle": "2024-07-31T05:16:31.649240Z",
     "shell.execute_reply": "2024-07-31T05:16:31.648081Z"
    },
    "papermill": {
     "duration": 0.024677,
     "end_time": "2024-07-31T05:16:31.651776",
     "exception": false,
     "start_time": "2024-07-31T05:16:31.627099",
     "status": "completed"
    },
    "tags": []
   },
   "outputs": [
    {
     "name": "stdout",
     "output_type": "stream",
     "text": [
      "R squared Error :  0.9107277531434661\n"
     ]
    }
   ],
   "source": [
    "# evaluate the model\n",
    "error_score = metrics.r2_score(Y_test, test_data_prediction)\n",
    "print(\"R squared Error : \", error_score)"
   ]
  },
  {
   "cell_type": "code",
   "execution_count": 34,
   "id": "1a315f5a",
   "metadata": {
    "execution": {
     "iopub.execute_input": "2024-07-31T05:16:31.679978Z",
     "iopub.status.busy": "2024-07-31T05:16:31.679582Z",
     "iopub.status.idle": "2024-07-31T05:16:31.913146Z",
     "shell.execute_reply": "2024-07-31T05:16:31.911886Z"
    },
    "papermill": {
     "duration": 0.251281,
     "end_time": "2024-07-31T05:16:31.915887",
     "exception": false,
     "start_time": "2024-07-31T05:16:31.664606",
     "status": "completed"
    },
    "tags": []
   },
   "outputs": [
    {
     "data": {
      "image/png": "[encoded data removed]",
      "text/plain": [
       "<Figure size 640x480 with 1 Axes>"
      ]
     },
     "metadata": {},
     "output_type": "display_data"
    }
   ],
   "source": [
    "# plot the actual vs predicted model\n",
    "plt.scatter(Y_test, test_data_prediction)\n",
    "plt.xlabel(\"Actual Price\")\n",
    "plt.ylabel(\"Predicted Price\")\n",
    "plt.title(\" Actual Prices vs Predicted Prices\")\n",
    "plt.show()"
   ]
  },
  {
   "cell_type": "code",
   "execution_count": null,
   "id": "97455459",
   "metadata": {
    "papermill": {
     "duration": 0.014231,
     "end_time": "2024-07-31T05:16:31.944958",
     "exception": false,
     "start_time": "2024-07-31T05:16:31.930727",
     "status": "completed"
    },
    "tags": []
   },
   "outputs": [],
   "source": []
  }
 ],
 "metadata": {
  "kaggle": {
   "accelerator": "none",
   "dataSources": [
    {
     "datasetId": 765788,
     "sourceId": 1320808,
     "sourceType": "datasetVersion"
    }
   ],
   "dockerImageVersionId": 30746,
   "isGpuEnabled": false,
   "isInternetEnabled": true,
   "language": "python",
   "sourceType": "notebook"
  },
  "kernelspec": {
   "display_name": "Python 3",
   "language": "python",
   "name": "python3"
  },
  "language_info": {
   "codemirror_mode": {
    "name": "ipython",
    "version": 3
   },
   "file_extension": ".py",
   "mimetype": "text/x-python",
   "name": "python",
   "nbconvert_exporter": "python",
   "pygments_lexer": "ipython3",
   "version": "3.10.13"
  },
  "papermill": {
   "default_parameters": {},
   "duration": 8.611362,
   "end_time": "2024-07-31T05:16:32.581044",
   "environment_variables": {},
   "exception": null,
   "input_path": "__notebook__.ipynb",
   "output_path": "__notebook__.ipynb",
   "parameters": {},
   "start_time": "2024-07-31T05:16:23.969682",
   "version": "2.5.0"
  }
 },
 "nbformat": 4,
 "nbformat_minor": 5
}
